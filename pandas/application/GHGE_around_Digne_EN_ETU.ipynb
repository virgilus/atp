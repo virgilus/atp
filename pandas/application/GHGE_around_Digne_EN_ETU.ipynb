{
 "cells": [
  {
   "cell_type": "markdown",
   "id": "18916855-42d2-4605-b778-cd4cd79c2e54",
   "metadata": {
    "tags": [
     "en"
    ]
   },
   "source": [
    "# Practical Application\n",
    "\n",
    "# Greenhouse gas emissions around Digne-les-Bains\n",
    "\n",
    "## Problem\n",
    "\n",
    "**You've been asked to sum up all the greenhouse gas emissions (GHGE) emitted during the year 2016 by the city of Digne-les-Bains as well as all the other cities located within a radius of 30kms around it. How would you proceed?**"
   ]
  },
  {
   "cell_type": "markdown",
   "id": "2fd3cc67",
   "metadata": {
    "tags": [
     "en"
    ]
   },
   "source": [
    "## Objectives\n",
    "\n",
    "This notebook will allow you to:\n",
    "\n",
    "- Learn how to read and explore a dataset.\n",
    "- Clean it up so that we can work with it.\n",
    "- Write custom functions and apply them on this dataset.\n",
    "- Fill in missing data using an online API or performing a join.\n",
    "- Answer the problem."
   ]
  },
  {
   "cell_type": "markdown",
   "id": "be246301-7a38-4ef0-b67a-63065ca3f80e",
   "metadata": {
    "tags": [
     "en"
    ]
   },
   "source": [
    "## Coding"
   ]
  },
  {
   "cell_type": "markdown",
   "id": "4d63857a-002c-49d2-afd2-d932c53de6c2",
   "metadata": {
    "tags": [
     "en"
    ]
   },
   "source": [
    "### Imports"
   ]
  },
  {
   "cell_type": "markdown",
   "id": "9e5114c4-bcdf-4cd3-94ac-64bfab0789a8",
   "metadata": {
    "tags": [
     "en"
    ]
   },
   "source": [
    "**>>>** Import Pandas as pd:"
   ]
  },
  {
   "cell_type": "code",
   "execution_count": 1,
   "id": "80873bbd-be7c-4165-adca-8869e8dab783",
   "metadata": {},
   "outputs": [],
   "source": [
    "#code here!\n"
   ]
  },
  {
   "cell_type": "markdown",
   "id": "b9dc16a5-2ab1-43ef-91b0-7adaffecb6a3",
   "metadata": {
    "tags": [
     "en"
    ]
   },
   "source": [
    "### Downloading and reading a CSV file"
   ]
  },
  {
   "cell_type": "markdown",
   "id": "17f8990e-cbee-4fbb-8b07-a66d0416c7d0",
   "metadata": {
    "tags": [
     "en"
    ]
   },
   "source": [
    "**>>>** Download the csv file named **\"Émissions de gaz à effet de serre PRG100 par commune - indicateur\"** which can be downloaded at the following address\n",
    "https://trouver.datasud.fr/dataset/emissions-de-gaz-a-effet-de-serre-prg100-par-commune-indicateur\n",
    "\n",
    "Then move it to the same directory as this notebook (working directory)."
   ]
  },
  {
   "cell_type": "markdown",
   "id": "8fd1ab78-c65f-4381-a808-aabf30ae47f1",
   "metadata": {
    "tags": [
     "en"
    ]
   },
   "source": [
    "**>>>** Create a new *DataFrame* named \"df\" with the ``pd.read_csv()`` function. If Pandas returns an error, open the file with jupyter lab or a text editor (VS Code, Notepad++ etc. but do NOT use Excel!) and examine it to find the source of the error. The most common errors when reading a csv file are:\n",
    "\n",
    "- A wrong field separator, by default Pandas assumes that it is the \",\" character. In this case specify the separator (= delimiter) with the argument \"sep\".\n",
    "\n",
    "- A bad \"quotechar\", a character used to denote the start and end of a quoted item. Quoted items can include the delimiter and it will be ignored. In this case specify it with the \"quotechar\" argument.\n",
    "\n",
    "- Bad file encoding. The \"utf-8\" standard is the most common, but sometimes the files are in other formats like \"cp1252\" for example. In this case specify the encoding with the \"encoding\" argument.\n",
    "\n",
    "- The presence of extra lines at the beginning or at the end of the file. In this case use the \"skiprows\" or \"skipfooter\" arguments to ignore these lines.\n",
    "\n",
    "*NOTE*: Do **NOT** open the file with \"Excel\", it may corrupt your file and make it unreadable."
   ]
  },
  {
   "cell_type": "code",
   "execution_count": 3,
   "id": "b37cb7f9-2d66-4ffc-8d7d-5310cc840a26",
   "metadata": {},
   "outputs": [],
   "source": [
    "#code here!\n"
   ]
  },
  {
   "cell_type": "markdown",
   "id": "8abe59c1-2ea4-4af4-a3e7-0a62f0220faf",
   "metadata": {
    "tags": [
     "en"
    ]
   },
   "source": [
    "### Exploration and cleaning"
   ]
  },
  {
   "cell_type": "markdown",
   "id": "8b2a41bb-9da2-4229-b376-a071f9b5bf7f",
   "metadata": {
    "tags": [
     "en"
    ]
   },
   "source": [
    "**>>>** Display the first 5 lines using the ``.head()`` method."
   ]
  },
  {
   "cell_type": "code",
   "execution_count": 5,
   "id": "77d8523e-0a1a-4a35-8cde-1b1c85eb72f1",
   "metadata": {},
   "outputs": [],
   "source": [
    "#code here!\n"
   ]
  },
  {
   "cell_type": "markdown",
   "id": "279d939f-3b44-400a-ac48-edbe053c9da2",
   "metadata": {
    "tags": [
     "en"
    ]
   },
   "source": [
    "**>>>** Display the types of each column with the ``.dtypes`` property. Make sure that every series has the right data type (dtype)."
   ]
  },
  {
   "cell_type": "code",
   "execution_count": 7,
   "id": "f617d740-93e0-479c-bc76-b84a80b541e4",
   "metadata": {},
   "outputs": [],
   "source": [
    "#code here!\n"
   ]
  },
  {
   "cell_type": "markdown",
   "id": "7f035a1c-a7e6-49ee-a5fd-2ddf2d087e76",
   "metadata": {
    "tags": [
     "en"
    ]
   },
   "source": [
    "**>>>** Display the number of rows and columns with the ``.shape`` property of the dataframe."
   ]
  },
  {
   "cell_type": "code",
   "execution_count": 9,
   "id": "e76eb3ac-9218-4aab-9aff-c7c3fc0358c6",
   "metadata": {},
   "outputs": [],
   "source": [
    "#code here!\n"
   ]
  },
  {
   "cell_type": "markdown",
   "id": "ec32a26b-fbeb-4352-ad6e-f88ea0b14118",
   "metadata": {
    "tags": [
     "en"
    ]
   },
   "source": [
    "**>>>** Use the ``.isna()`` and ``.sum()`` methods on the dataframe to see if there are any rows with empty values. If so, delete all rows with null values using the ``.dropna()`` method. Don't forget to replace the old df with this new df.\n",
    "\n",
    "*Note: In many cases we can work with missing values. But here we're going to delete them in order to simplify the exercise but also because these rows with missing values will not be useful anyway.*"
   ]
  },
  {
   "cell_type": "code",
   "execution_count": 11,
   "id": "76dc0f0f-4902-4467-a8f5-3e07fdf8df9d",
   "metadata": {},
   "outputs": [],
   "source": [
    "#code here!\n"
   ]
  },
  {
   "cell_type": "code",
   "execution_count": 13,
   "id": "6a39679c-181d-4f00-bfef-7f3b7e0b9253",
   "metadata": {},
   "outputs": [],
   "source": [
    "#code here!\n"
   ]
  },
  {
   "cell_type": "code",
   "execution_count": 15,
   "id": "a9109952-9f19-43dc-89a6-75994fbcf729",
   "metadata": {},
   "outputs": [],
   "source": [
    "#code here!\n"
   ]
  },
  {
   "cell_type": "markdown",
   "id": "69c41a56-9fe6-4555-9957-2e4ae2ce915d",
   "metadata": {
    "tags": [
     "en"
    ]
   },
   "source": [
    "**>>>** Look at each column (also called a *Series*) and determine which ones are useful. You can use ``.unique()``, ``nunique()``, ``.value_counts()`` on the Series as well as ``.plot()`` and ``.plot.bar()`` or ``.plot.hist()`` to visualize the data."
   ]
  },
  {
   "cell_type": "code",
   "execution_count": 17,
   "id": "7ecbbb72-e029-434a-b3ed-0d952e663148",
   "metadata": {},
   "outputs": [],
   "source": [
    "#code here!\n"
   ]
  },
  {
   "cell_type": "code",
   "execution_count": 19,
   "id": "02b8c6e9-990b-4c21-a163-036bcd03143c",
   "metadata": {},
   "outputs": [],
   "source": [
    "#code here!\n"
   ]
  },
  {
   "cell_type": "code",
   "execution_count": 21,
   "id": "223ceafe-70b5-4864-b088-1006fe9210a0",
   "metadata": {},
   "outputs": [],
   "source": [
    "#code here!\n"
   ]
  },
  {
   "cell_type": "code",
   "execution_count": 23,
   "id": "8f5e30c3-3d8a-44bb-8759-0ae2cb6891e4",
   "metadata": {},
   "outputs": [],
   "source": [
    "#code here!\n"
   ]
  },
  {
   "cell_type": "code",
   "execution_count": 25,
   "id": "ce1d54be-678c-4fca-80d1-b21f075a9afc",
   "metadata": {},
   "outputs": [],
   "source": [
    "#code here!\n"
   ]
  },
  {
   "cell_type": "code",
   "execution_count": 27,
   "id": "789ea4da-a00b-4b76-99c5-dfe01c336d37",
   "metadata": {},
   "outputs": [],
   "source": [
    "#code here!\n"
   ]
  },
  {
   "cell_type": "markdown",
   "id": "57958371-de5e-4d62-852d-fbe566d956d1",
   "metadata": {
    "tags": [
     "en"
    ]
   },
   "source": [
    "**>>>** Remove the unnecessary columns using ``df.drop()`` and the \"columns\" argument. Don't forget to replace the old df with this new df."
   ]
  },
  {
   "cell_type": "code",
   "execution_count": 29,
   "id": "c540b94a-6e7a-4616-9eaa-fe324ccdbad3",
   "metadata": {},
   "outputs": [],
   "source": [
    "#code here!\n"
   ]
  },
  {
   "cell_type": "code",
   "execution_count": 31,
   "id": "c84be979-2500-417f-8603-e91dacbb9a96",
   "metadata": {},
   "outputs": [],
   "source": [
    "#code here!\n"
   ]
  },
  {
   "cell_type": "markdown",
   "id": "5e80c115-4d8f-4def-be9b-217b2c083d01",
   "metadata": {
    "tags": [
     "en"
    ]
   },
   "source": [
    "**>>>** Rename the remaining columns so that they all have a short name, in lower case and without accents.\n",
    "\n",
    "For example :\n",
    "\n",
    "```python\n",
    "{'Année': 'year', 'Entité administrative': 'entity', 'Valeur': 'value'}\n",
    "```\n",
    "\n",
    "You can do this in two ways: \n",
    "\n",
    "- By changing the ``df.columns`` property with a list containing the new column names.\n",
    "\n",
    "- By applying the method ``.rename()`` to your *DataFrame* and giving the argument ``columns`` a dictionary which will contain the old names as keys and the new name as values. Don't forget to replace the old df with this new df."
   ]
  },
  {
   "cell_type": "code",
   "execution_count": 33,
   "id": "0a922a3f",
   "metadata": {
    "tags": []
   },
   "outputs": [
    {
     "data": {
      "text/plain": [
       "Index(['Année', 'Entité administrative', 'Valeur'], dtype='object')"
      ]
     },
     "execution_count": 33,
     "metadata": {},
     "output_type": "execute_result"
    }
   ],
   "source": [
    "df.columns"
   ]
  },
  {
   "cell_type": "code",
   "execution_count": 34,
   "id": "d9ada2f0-16c5-40f1-8e27-b912f482dcdc",
   "metadata": {},
   "outputs": [],
   "source": [
    "#code here!\n"
   ]
  },
  {
   "cell_type": "markdown",
   "id": "f34673f4-b566-49ee-84fe-31bcd461e277",
   "metadata": {
    "tags": [
     "en"
    ]
   },
   "source": [
    "### Dataframe transformation\n",
    "\n",
    "The dataframe is now much cleaner. However, there is still some processing to be done in the \"entity\" and \"value\" columns to make them more readable."
   ]
  },
  {
   "cell_type": "markdown",
   "id": "cf3f18b8-abd3-489a-bb6c-a98167d8876f",
   "metadata": {
    "tags": [
     "en"
    ]
   },
   "source": [
    "**>>>** Use the ``str.split()`` method or the ``str.rsplit()`` method to separate the cities from the \"department code\" and place them in two separate columns. To do this you can use the parameters \"n\" which indicates the number of splits to be performed, and \"expand\" which takes a boolean value and allows you to create new series automatically.\n",
    "\n",
    "Remember: by default ``str.split()`` uses space as a separator.\n",
    "\n",
    "Store these results in one column named 'city' and the other named 'dept'.\n",
    "\n",
    "To assign the split results directly to two columns you can use a list of series, for example :\n",
    "\n",
    "```python\n",
    "df[['serie1', 'serie2']] = # use the str.expand() function here\n",
    "```"
   ]
  },
  {
   "cell_type": "code",
   "execution_count": 36,
   "id": "39407422-d1d4-4443-b833-bd0a43e24426",
   "metadata": {},
   "outputs": [],
   "source": [
    "#code here!\n"
   ]
  },
  {
   "cell_type": "markdown",
   "id": "ab689f77-7aed-404e-83cb-be547233481a",
   "metadata": {
    "tags": [
     "en"
    ]
   },
   "source": [
    "**>>>** Replace the \"(\" and \")\" characters from the \"dept\" column using the ``str.replace()`` method. It works like the ``.replace()`` function. However, depending on your Pandas version, add \"regex=False\" as a parameter if you don't want a warning message to appear.\n",
    "\n",
    "Don't forget to replace the old series with the new one (be careful not to change the whole dataframe this time, only the Series!)."
   ]
  },
  {
   "cell_type": "code",
   "execution_count": 38,
   "id": "c3be8e83-5202-470e-8d36-a778c2d36a6e",
   "metadata": {},
   "outputs": [],
   "source": [
    "# Code here!\n"
   ]
  },
  {
   "cell_type": "markdown",
   "id": "d172e7fe-9945-4923-9ba4-ee6ddf0e542e",
   "metadata": {
    "tags": [
     "en"
    ]
   },
   "source": [
    "**>>>** We don't need the \"entity\" column anymore, drop it."
   ]
  },
  {
   "cell_type": "code",
   "execution_count": 40,
   "id": "2c31a505-89a4-43d9-964e-c12af1407ff3",
   "metadata": {},
   "outputs": [],
   "source": [
    "#code here!\n"
   ]
  },
  {
   "cell_type": "markdown",
   "id": "0ce0af19-7ded-4e70-b85e-613d445a3ad2",
   "metadata": {
    "tags": [
     "en"
    ]
   },
   "source": [
    "**>>>** Change the values in the \"value\" column from kg to mt. As a reminder, a mega ton is 1 million times larger, so 10^6."
   ]
  },
  {
   "cell_type": "code",
   "execution_count": 42,
   "id": "65dd2622-7fd9-4a1e-a21b-43248e1f4a1d",
   "metadata": {},
   "outputs": [],
   "source": [
    "# code here!\n"
   ]
  },
  {
   "cell_type": "markdown",
   "id": "378c20db-c30d-449e-a1a9-b6111f948e1c",
   "metadata": {
    "tags": [
     "en"
    ]
   },
   "source": [
    "**>>>** Shorten our dataframe by selecting only the lines relatives to the cities that belong to the Alpes-de-Haute-Provence department for the year 2016 using the ``.loc[]`` method. Don't forget the parentheses for each condition you use if you want to make sure the filter will behave as expected! And, as usual, don't forget to replace the old df by the new one once your tests are satisfactory.\n",
    "\n",
    "*Note*: when using the method ``.loc[]`` the operators \"and\" and \"or\" become \"&\" and \"|\". Why? Because here we don't compare two expressions  but a set of these expressions. This is called \"bitwise operations\"."
   ]
  },
  {
   "cell_type": "code",
   "execution_count": 44,
   "id": "6ca4f7c3-d6de-4ef1-8991-4f413182164e",
   "metadata": {},
   "outputs": [],
   "source": [
    "# code here!\n"
   ]
  },
  {
   "cell_type": "markdown",
   "id": "e8845ae8-64b3-4131-9ac2-2693fa898bba",
   "metadata": {
    "tags": [
     "en"
    ]
   },
   "source": [
    "**>>>** Use the method ``.reset_index()`` to reset the index to 0 of our dataframe."
   ]
  },
  {
   "cell_type": "code",
   "execution_count": 46,
   "id": "d3b41d86-1591-46a0-8f8f-c82a01e2b87f",
   "metadata": {},
   "outputs": [],
   "source": [
    "#code here!\n"
   ]
  },
  {
   "cell_type": "markdown",
   "id": "49c139ca-39ca-45aa-b277-377b014255a4",
   "metadata": {
    "tags": [
     "en"
    ]
   },
   "source": [
    "## Finding geographical coordinates of the cities\n",
    "\n",
    "Now that we have cleaned up the file, changed the unit of the value column and eliminated all the cities we didn't want, we are going to retrieve the coordinates (latitude and longitude) of all the cities of the Alpes-de-Haute-Provence. Two methods can be used : with an API or with a join."
   ]
  },
  {
   "cell_type": "markdown",
   "id": "566caf89-6e0b-4f6b-b1a2-d9f8c05598c5",
   "metadata": {
    "tags": [
     "en"
    ]
   },
   "source": [
    "### Method 1 : Using an API\n",
    "\n",
    "**>>>** Using the Requests library, write a function called \"get_coord\" that takes as input the name of the city and gives as output the latitude and longitude of this city. To do this, use the API https://adresse.data.gouv.fr/. You can use the parameters \"q\" (abbreviation of *query* which indicates the search to be done) and \"limit\" to limit the results obtained for more clarity.\n",
    "\n",
    "To avoid getting bad results from homonymous or paronymous cities, you can indicate to the API a priority zone of research by passing arguments \"lat\" and \"lon\". Use Digne-les-Bains coordinates.\n",
    "\n",
    "Be careful because the order in which the API gives us the latitude and the longitude is not the right one, it will be necessary to reverse it. This can be done easily thanks to a little trick with the *slices*. It's up to you to discover it.\n",
    "\n",
    "Sometimes the API doesn't seem to answer correctly and doesn't return the expected JSON, to avoid that the program crashes it will also be necessary to foresee the case where the API doesn't find the city and thus where the key 'features' is not found in the JSON received. In that case your function should return ``None`` or ``pd.NA``.\n",
    "\n",
    "*Tip: You can use an online JSON viewer, like this one http://jsonviewer.stack.hu/ to better see the content of the answers.*\n",
    "\n",
    "*Note: the more experienced among you can make their code more readable by using a dictionary of parameters instead of using \"f strings\".*"
   ]
  },
  {
   "cell_type": "code",
   "execution_count": 48,
   "id": "cbeb682b-6de7-429e-a0a6-b09ac0da8991",
   "metadata": {},
   "outputs": [],
   "source": [
    "#code here!\n",
    "import requests\n",
    "\n",
    "def get_coord(city):\n",
    "    pass # delete the \"pass\" instruction and write your own function"
   ]
  },
  {
   "cell_type": "markdown",
   "id": "201bb2c8-68c3-4c25-aeac-bf23c2a0632e",
   "metadata": {
    "tags": [
     "en"
    ]
   },
   "source": [
    "**>>>** Then apply this function to a new column that you will call 'coord'. Sending around 200 queries - one for each of the cities in the 04 department - means that the code will take about 30 seconds to run. You can add a magic command ``%%time`` at the beginning of the cell to time it.\n",
    "\n",
    "The object stored in each value of the Series (= column) 'coord' will be a list. In general it is not a good practice to store objects like lists or dictionaries in a *DataFrame*. But we will make an exception here and keep the coordinates in this type to save time on the next steps."
   ]
  },
  {
   "cell_type": "code",
   "execution_count": 50,
   "id": "13374e64-f641-4d92-ab77-a45c248efe31",
   "metadata": {},
   "outputs": [],
   "source": [
    "#code here!\n"
   ]
  },
  {
   "cell_type": "markdown",
   "id": "5fd15e6e-1257-4a78-a610-8b1ebaddc589",
   "metadata": {
    "tags": [
     "en"
    ]
   },
   "source": [
    "Our series 'coord' has been successfully created! You can jump directly to the \"calculate the cities less than 30km away\" title."
   ]
  },
  {
   "cell_type": "markdown",
   "id": "e0f154fd-352a-4cc9-a6b9-1f64f534bc88",
   "metadata": {
    "tags": [
     "en"
    ]
   },
   "source": [
    "## Method 2 : performing joins\n",
    "\n",
    "In order to do this, we need the data. Luckily there's a [file available on data.gouv.fr](https://www.data.gouv.fr/fr/datasets/r/dbe8a621-a9c4-4bc3-9cae-be1699c5ff25) that meets our requirements.\n",
    "\n",
    "**>>>** Load the file in dataframe named \"geo_df\". You can either download it and then read it from your hard drive or read it directly from the url (yes Pandas can do that!). If you don't know what types of data are in your csv, you can start bu using the parameter \"dtype\" avec give it \"str\" as argument. It will convert every column as string."
   ]
  },
  {
   "cell_type": "code",
   "execution_count": 51,
   "id": "65c965fd-d91c-4e00-93ef-ccb9e2eb8a62",
   "metadata": {},
   "outputs": [],
   "source": [
    "# Code here!\n",
    "\n"
   ]
  },
  {
   "cell_type": "markdown",
   "id": "94a9ae29-73b9-4255-bc8b-9cbd8f0db66b",
   "metadata": {
    "tags": [
     "en"
    ]
   },
   "source": [
    "#### Exploration\n",
    "\n",
    "**>>>** Explore your new dataset. How many rows and columns? Are the Series dtypes consistent with the data they store? What columns are we interested in? How many empty values are they in each column?"
   ]
  },
  {
   "cell_type": "code",
   "execution_count": 53,
   "id": "0a204941-3721-47ca-a55f-871360120167",
   "metadata": {},
   "outputs": [],
   "source": [
    "# Code here!\n"
   ]
  },
  {
   "cell_type": "code",
   "execution_count": 54,
   "id": "76cffcd3-fc33-4d18-bdd7-9dda9b457555",
   "metadata": {},
   "outputs": [],
   "source": [
    "# Code here!\n"
   ]
  },
  {
   "cell_type": "code",
   "execution_count": 55,
   "id": "31513b75-1ee0-41c5-9cde-7782813225e3",
   "metadata": {},
   "outputs": [],
   "source": [
    "# Code here!\n"
   ]
  },
  {
   "cell_type": "code",
   "execution_count": 56,
   "id": "5367d6dc-e324-4706-8bf9-71a8dd46c133",
   "metadata": {},
   "outputs": [],
   "source": [
    "# Code here!\n",
    "\n"
   ]
  },
  {
   "cell_type": "markdown",
   "id": "e2d903f1-4ffd-4230-b400-01113216d7cb",
   "metadata": {
    "tags": [
     "en"
    ]
   },
   "source": [
    "**>>>** We are going to perform a join using the name of the cities as key. However, our file concerns all the cities in France. To avoid possible homonyms, we will reduce the size of our \"geo_df\" by selecting only the rows relating to cities in the Alpes-de-Haute-Provence department (04). Use `.loc[]` to do this (be careful, have a look on how departments are coded in \"geo_df\"!)"
   ]
  },
  {
   "cell_type": "code",
   "execution_count": 58,
   "id": "3d6ad068-efd2-47b1-978c-359e160b5da0",
   "metadata": {
    "tags": []
   },
   "outputs": [],
   "source": [
    "# Code here!\n"
   ]
  },
  {
   "cell_type": "markdown",
   "id": "c44460d0-7348-4393-abf9-76bf153397cd",
   "metadata": {},
   "source": [
    "**>>>** Maintenant, comparez le nombre de lignes de geo_df avec celui de notre df en utilisant la propriété `.shape`. Pour rappel, une ligne est égale à une commune. Que constatez-vous ?"
   ]
  },
  {
   "cell_type": "markdown",
   "id": "9867f66e-5ef1-4514-a028-78b82fd31f67",
   "metadata": {},
   "source": [
    "**>>>** Now compare the number of lines in geo_df and our df using the `.shape` property. As a reminder, one line is equal to one city. What do you see?"
   ]
  },
  {
   "cell_type": "code",
   "execution_count": 60,
   "id": "8d88d873-b157-435c-be89-bf53a35322f1",
   "metadata": {},
   "outputs": [],
   "source": [
    "# Code here!\n"
   ]
  },
  {
   "cell_type": "code",
   "execution_count": 61,
   "id": "e7f3137e-d4d0-43f6-9852-5b71daa07d84",
   "metadata": {
    "tags": []
   },
   "outputs": [],
   "source": [
    "# Code here!\n"
   ]
  },
  {
   "cell_type": "code",
   "execution_count": 62,
   "id": "e4692d78-0384-4276-9bae-71948cc029a0",
   "metadata": {
    "tags": []
   },
   "outputs": [
    {
     "name": "stdout",
     "output_type": "stream",
     "text": [
      "198 244\n"
     ]
    }
   ],
   "source": [
    "print(df.shape[0], geo_df.shape[0])"
   ]
  },
  {
   "cell_type": "markdown",
   "id": "5857891b-d6e3-4454-8e0e-201c00438d96",
   "metadata": {
    "tags": [
     "en"
    ]
   },
   "source": [
    "**>>>** The column \"line 5\" seems to concern places or communes that have merged administratively with other communes. Keep only the rows where the values of the column \"line 5\" are null."
   ]
  },
  {
   "cell_type": "code",
   "execution_count": 63,
   "id": "6f6f9cb9-a239-4910-a977-1fe5d959112f",
   "metadata": {
    "tags": []
   },
   "outputs": [],
   "source": [
    "#code here!\n"
   ]
  },
  {
   "cell_type": "markdown",
   "id": "b567d00a-3f6f-4ac9-9ee3-8d66bd9f6740",
   "metadata": {
    "tags": [
     "en"
    ]
   },
   "source": [
    "**>>>** To better visualise the data and avoid storing unnecessary data in the computer's RAM, \"slice\" geo_df by keeping only the useful columns, i.e. \"nom_commune_complet\", \"latitude\" and \"longitude\". To slice a dataframe you can give a list of columns inside the \"[]\" slicing operator:\n",
    "\n",
    "```python\n",
    "\n",
    "my_df[[\"col1\", \"col2\", \"col3\"]]\n",
    "\n",
    "```"
   ]
  },
  {
   "cell_type": "code",
   "execution_count": 65,
   "id": "f4560ee6-c6ef-485d-9fe6-df152d62b2fd",
   "metadata": {},
   "outputs": [],
   "source": [
    "# Code here!\n"
   ]
  },
  {
   "cell_type": "markdown",
   "id": "08c944a7-244c-49ab-8259-38c5774055f1",
   "metadata": {
    "tags": [
     "en"
    ]
   },
   "source": [
    "**>>>** Rename the column \"nom_commune_complet\" to \"city\"."
   ]
  },
  {
   "cell_type": "code",
   "execution_count": 67,
   "id": "c60fda4b-e29c-471b-b3e8-454acd5b0640",
   "metadata": {
    "tags": []
   },
   "outputs": [],
   "source": [
    "# Code here:\n"
   ]
  },
  {
   "cell_type": "code",
   "execution_count": 68,
   "id": "b728d3bc-0e6b-4c17-9467-4f42f4803e71",
   "metadata": {
    "tags": []
   },
   "outputs": [],
   "source": [
    "# Solution:\n",
    "geo_df = geo_df.rename(columns={\"nom_commune_complet\":\"city\"})"
   ]
  },
  {
   "cell_type": "markdown",
   "id": "d660b597-2298-4791-82d3-5468b645cfd5",
   "metadata": {
    "tags": [
     "en"
    ]
   },
   "source": [
    "**>>>** We will now make sure that the cities names are as close as possible. Create a function named ``format_city()`` that formats the cities names by removing :\n",
    "- spaces\n",
    "- apostrophes\n",
    "- commas\n",
    "- accents\n",
    "- hyphens\n",
    "\n",
    "To remove accents let's import the `unidecode` function from the `unidecode` library using the following syntax:\n",
    "\n",
    "```python\n",
    "from unidecode import unidecode\n",
    "```\n",
    "\n",
    "You may have to install the library first. Once the library is imported, it is imported for the whole *notebook*.\n",
    "\n",
    "\n",
    "Apply this function to the original df and to geo_df."
   ]
  },
  {
   "cell_type": "code",
   "execution_count": 69,
   "id": "821b9983-97f5-4c56-955d-183cca5bc75a",
   "metadata": {
    "tags": []
   },
   "outputs": [
    {
     "data": {
      "text/plain": [
       "'e'"
      ]
     },
     "execution_count": 69,
     "metadata": {},
     "output_type": "execute_result"
    }
   ],
   "source": [
    "# Example\n",
    "from unidecode import unidecode\n",
    "\n",
    "unidecode(\"é\")"
   ]
  },
  {
   "cell_type": "code",
   "execution_count": 70,
   "id": "8851ee01-326c-43cb-9642-96df1125f607",
   "metadata": {
    "tags": []
   },
   "outputs": [],
   "source": [
    "# Code here!\n",
    "from unidecode import unidecode\n",
    "\n",
    "def format_city(text):\n",
    "    \n",
    "    pass # delete this instruction and code your function using a return! \n",
    "\n",
    "# Now apply your function on df['city'] and df['nom_commune_complet']:\n"
   ]
  },
  {
   "cell_type": "code",
   "execution_count": 72,
   "id": "618b4f1a-cebb-41c8-b8a4-dcedd124d363",
   "metadata": {
    "tags": []
   },
   "outputs": [
    {
     "data": {
      "text/html": [
       "<div>\n",
       "<style scoped>\n",
       "    .dataframe tbody tr th:only-of-type {\n",
       "        vertical-align: middle;\n",
       "    }\n",
       "\n",
       "    .dataframe tbody tr th {\n",
       "        vertical-align: top;\n",
       "    }\n",
       "\n",
       "    .dataframe thead th {\n",
       "        text-align: right;\n",
       "    }\n",
       "</style>\n",
       "<table border=\"1\" class=\"dataframe\">\n",
       "  <thead>\n",
       "    <tr style=\"text-align: right;\">\n",
       "      <th></th>\n",
       "      <th>city</th>\n",
       "      <th>latitude</th>\n",
       "      <th>longitude</th>\n",
       "    </tr>\n",
       "  </thead>\n",
       "  <tbody>\n",
       "    <tr>\n",
       "      <th>1608</th>\n",
       "      <td>AIGLUN</td>\n",
       "      <td>44.0638744567</td>\n",
       "      <td>6.13842845338</td>\n",
       "    </tr>\n",
       "  </tbody>\n",
       "</table>\n",
       "</div>"
      ],
      "text/plain": [
       "        city       latitude      longitude\n",
       "1608  AIGLUN  44.0638744567  6.13842845338"
      ]
     },
     "execution_count": 72,
     "metadata": {},
     "output_type": "execute_result"
    }
   ],
   "source": [
    "geo_df.head(1)"
   ]
  },
  {
   "cell_type": "markdown",
   "id": "2530173a-8964-40c6-ab9b-54093016ec67",
   "metadata": {
    "tags": [
     "en"
    ]
   },
   "source": [
    "**>>>** Perform the join using the keys 'city' for our df and 'nom_commune_postal' for geo_df. Use the `pd.merge()` function to do so."
   ]
  },
  {
   "cell_type": "code",
   "execution_count": 73,
   "id": "4b91f6e3-ec44-46d6-b8db-8ad9edcd0a50",
   "metadata": {
    "tags": []
   },
   "outputs": [],
   "source": [
    "# code here\n"
   ]
  },
  {
   "cell_type": "markdown",
   "id": "33e3d566-142a-411f-8683-4cff3152a09b",
   "metadata": {
    "tags": [
     "en"
    ]
   },
   "source": [
    "**>>>** Examine the results of the join. Do all cities now have latitude and longitude? If not, why?"
   ]
  },
  {
   "cell_type": "code",
   "execution_count": 75,
   "id": "5b0c9db8-854a-403a-b7f2-cfd243bb9184",
   "metadata": {
    "tags": []
   },
   "outputs": [],
   "source": [
    "# Code here!\n",
    "\n"
   ]
  },
  {
   "cell_type": "markdown",
   "id": "e8e7f0e6-23bb-47df-9cf6-f6dea53af897",
   "metadata": {
    "tags": [
     "en"
    ]
   },
   "source": [
    "**>>>** Delete the city or cities that do not have a latitude. Use the \"subset\" argument of the `.dropna()` method."
   ]
  },
  {
   "cell_type": "code",
   "execution_count": 77,
   "id": "24a84259-75a4-4897-84f2-4c769d76ec61",
   "metadata": {
    "tags": []
   },
   "outputs": [],
   "source": [
    "# Code here!\n"
   ]
  },
  {
   "cell_type": "markdown",
   "id": "dbcbb271-edbb-48b6-ba56-e9befa1c3fdf",
   "metadata": {
    "tags": [
     "en"
    ]
   },
   "source": [
    "Our coordinates are stored as a string in two different columns. In order to keep the same output format as the per API method we will store them as a list in a column named 'coord'. To do this, run the following function."
   ]
  },
  {
   "cell_type": "code",
   "execution_count": 79,
   "id": "5b1bdd8d-22e3-43e0-b7e3-9a97f1623f53",
   "metadata": {
    "tags": []
   },
   "outputs": [],
   "source": [
    "df['coord'] = df[['latitude', 'longitude']].apply(lambda x :[float(x[0]), float(x[1])], axis=1)"
   ]
  },
  {
   "cell_type": "code",
   "execution_count": 80,
   "id": "456db6d6-4291-4ab5-8050-5f163b8448d4",
   "metadata": {
    "tags": []
   },
   "outputs": [
    {
     "data": {
      "text/plain": [
       "0    [44.0638744567, 6.13842845338]\n",
       "1    [43.7887902464, 6.03091832001]\n",
       "Name: coord, dtype: object"
      ]
     },
     "execution_count": 80,
     "metadata": {},
     "output_type": "execute_result"
    }
   ],
   "source": [
    "df['coord'].head(2)"
   ]
  },
  {
   "cell_type": "markdown",
   "id": "fee51f18-2cfb-4b30-a75c-a6a660604749",
   "metadata": {
    "tags": [
     "en"
    ]
   },
   "source": [
    "### Calculate the cities less than 30 km away\n",
    "\n",
    "We are now going to determine the cities that are less than 30 km away from Digne in order to be able, *in fine*, to add up the GHG emitted."
   ]
  },
  {
   "cell_type": "markdown",
   "id": "d8d8b9d1-7b87-410f-9a7d-f16ea56fc7c3",
   "metadata": {
    "tags": [
     "en"
    ]
   },
   "source": [
    "**>>>** Create a function named \"haversine\" that uses the [Haversine formula](https://fr.wikipedia.org/wiki/Formule_de_haversine) to compute the distance between Digne and all the other cities of Alpes-de-Haute-Provence.\n",
    "\n",
    "You can code it yourself, find it already written by doing a search on the internet or install a library from which you can import the function. It's up to you to apply it properly.\n",
    "\n",
    "*Tip: numpy is a library widely used in python to do scientific calculation. It is usually imported using the alias \"np\".*"
   ]
  },
  {
   "cell_type": "code",
   "execution_count": 81,
   "id": "6d32c049-9570-4c50-8324-70488c103d51",
   "metadata": {
    "tags": []
   },
   "outputs": [],
   "source": [
    "digne_lat_lon = [44.089291, 6.242589]\n",
    "\n",
    "def haversine():\n",
    "    pass # delete the \"pass\" and write your own function!"
   ]
  },
  {
   "cell_type": "code",
   "execution_count": 83,
   "id": "49372b72",
   "metadata": {
    "tags": []
   },
   "outputs": [
    {
     "data": {
      "text/plain": [
       "34.31495591780193"
      ]
     },
     "execution_count": 83,
     "metadata": {},
     "output_type": "execute_result"
    }
   ],
   "source": [
    "# Use this cell to verify if your function works\n",
    "haversine([44.257187, 6.603604]) # should return a number around 34.31 kms"
   ]
  },
  {
   "cell_type": "markdown",
   "id": "f0bdad15-ca28-41a8-8a07-ef8d2bd80acd",
   "metadata": {
    "tags": [
     "en"
    ]
   },
   "source": [
    "**>>>** Create a new column named \"distance_from_digne\" and apply the Haversine formula on it.\n",
    "\n",
    "Note: If you used the API method some values might be outliers, because the coordinates of some cities may have been miscalculated. You can remove them, but it is not mandatory."
   ]
  },
  {
   "cell_type": "code",
   "execution_count": 84,
   "id": "c4f2dba6-9158-4da3-9d07-e0e92dcaff4d",
   "metadata": {},
   "outputs": [],
   "source": [
    "#code here!\n"
   ]
  },
  {
   "cell_type": "code",
   "execution_count": 86,
   "id": "d6dc7fca-3fa0-4fd8-ac78-fd08453b31c9",
   "metadata": {
    "tags": []
   },
   "outputs": [],
   "source": [
    "#code here!\n",
    "# you can use a .describe() on your new column \"distance_from_digne\"\n"
   ]
  },
  {
   "cell_type": "markdown",
   "id": "06e291d3-b0bb-4f57-991c-21a9b87187db",
   "metadata": {
    "tags": [
     "en"
    ]
   },
   "source": [
    "### Final calculation\n",
    "\n",
    "To obtain the answer to our initial question, filter the \"value\" series by taking only the cities whose distance is equal to or less than 30kms from Digne, then apply the function ``.sum()`` to this Series."
   ]
  },
  {
   "cell_type": "code",
   "execution_count": 88,
   "id": "81244d31-8d48-4d14-b153-9e31cd01955b",
   "metadata": {},
   "outputs": [],
   "source": [
    "#code here!\n"
   ]
  },
  {
   "cell_type": "markdown",
   "id": "2dd50e46-2785-4855-8be7-4e23144e227f",
   "metadata": {
    "tags": [
     "en"
    ]
   },
   "source": [
    "### Save the dataframe as a new CSV file"
   ]
  },
  {
   "cell_type": "markdown",
   "id": "77021236-d9c8-4258-a0ae-c5a93d62d3b4",
   "metadata": {
    "tags": [
     "en"
    ]
   },
   "source": [
    "**>>>** Save the file as a new csv file using the method ``pd.to_csv()`` which takes the destination directory as its main argument. If you give it only the file name, Pandas saves it in the current directory. If you don't want the index (which is not very useful), specify ``False`` in the ``index`` parameter."
   ]
  },
  {
   "cell_type": "code",
   "execution_count": null,
   "id": "a648c664-25c3-44f0-9833-04e88dbb6a89",
   "metadata": {
    "tags": []
   },
   "outputs": [],
   "source": [
    "#code here!\n"
   ]
  },
  {
   "cell_type": "markdown",
   "id": "58db9063-4056-4854-a0ac-a6ad418bdf8a",
   "metadata": {
    "tags": [
     "en"
    ]
   },
   "source": [
    "### BONUS: map generation with Leaflet"
   ]
  },
  {
   "cell_type": "markdown",
   "id": "732029df-759a-42d0-a236-c87fe51f71b3",
   "metadata": {
    "tags": [
     "en"
    ]
   },
   "source": [
    "**>>>** Install the Folium library and read its documentation. Then Generate a map called \"m\" that displays a marker (*folium.Marker*) for each city in the final dataframe (so only for the cities in the \"Alpes-de-Haute-Provence\"). Each marker should be blue if the city is more than 30 kms away and red if the city is less than 30kms away from Digne. In the text that appears when clicked (*popup*) indicate the name of the city, its distance from Digne and the amount of GHG emitted.\n",
    "\n",
    "Add also a red circle with a radius of 30km aand centered on Digne-les-Bains.\n",
    "\n",
    "**Hint**:\n",
    "\n",
    "- In that particular case, iterate through ``df.index`` might be a good idea."
   ]
  },
  {
   "cell_type": "code",
   "execution_count": null,
   "id": "48a16ab4-4c39-4406-b319-7bb2a7ff5c11",
   "metadata": {},
   "outputs": [],
   "source": [
    "#code here!\n"
   ]
  },
  {
   "cell_type": "code",
   "execution_count": null,
   "id": "845ddc76-6b13-4e5b-8a3d-84ca16c9d009",
   "metadata": {
    "tags": []
   },
   "outputs": [],
   "source": [
    "#code here!\n",
    "# display the map by tying is name (m)\n"
   ]
  },
  {
   "cell_type": "markdown",
   "id": "086f6d17-311c-42ce-a3b8-6e724add8938",
   "metadata": {
    "tags": [
     "en"
    ]
   },
   "source": [
    "### Map export\n",
    "\n",
    "Save the map as a html file."
   ]
  },
  {
   "cell_type": "code",
   "execution_count": null,
   "id": "460c1186-0b06-49cb-923a-7a18c80fd65c",
   "metadata": {},
   "outputs": [],
   "source": [
    "#code here!\n"
   ]
  }
 ],
 "metadata": {
  "kernelspec": {
   "display_name": "Python 3 (ipykernel)",
   "language": "python",
   "name": "python3"
  },
  "language_info": {
   "codemirror_mode": {
    "name": "ipython",
    "version": 3
   },
   "file_extension": ".py",
   "mimetype": "text/x-python",
   "name": "python",
   "nbconvert_exporter": "python",
   "pygments_lexer": "ipython3",
   "version": "3.10.9"
  }
 },
 "nbformat": 4,
 "nbformat_minor": 5
}
